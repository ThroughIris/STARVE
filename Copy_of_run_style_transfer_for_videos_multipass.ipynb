{
  "nbformat": 4,
  "nbformat_minor": 0,
  "metadata": {
    "colab": {
      "provenance": [],
      "machine_shape": "hm",
      "collapsed_sections": [
        "Vz0I_aD-7cAE",
        "I6hEJV088iqB"
      ],
      "include_colab_link": true
    },
    "kernelspec": {
      "name": "python3",
      "display_name": "Python 3"
    },
    "language_info": {
      "name": "python"
    },
    "gpuClass": "standard"
  },
  "cells": [
    {
      "cell_type": "markdown",
      "metadata": {
        "id": "view-in-github",
        "colab_type": "text"
      },
      "source": [
        "<a href=\"https://colab.research.google.com/github/ThroughIris/STARVE/blob/master/Copy_of_run_style_transfer_for_videos_multipass.ipynb\" target=\"_parent\"><img src=\"https://colab.research.google.com/assets/colab-badge.svg\" alt=\"Open In Colab\"/></a>"
      ]
    },
    {
      "cell_type": "markdown",
      "metadata": {
        "id": "Vz0I_aD-7cAE"
      },
      "source": [
        "# Clone Our GitHub Repo"
      ]
    },
    {
      "cell_type": "code",
      "metadata": {
        "id": "r8zZSre07O-g",
        "outputId": "2d8556ba-c12c-425e-afdb-c4914c7924bc",
        "colab": {
          "base_uri": "https://localhost:8080/"
        }
      },
      "source": [
        "%cd /content/\n",
        "!git clone https://github.com/ThroughIris/STARVE.git"
      ],
      "execution_count": 1,
      "outputs": [
        {
          "output_type": "stream",
          "name": "stdout",
          "text": [
            "/content\n",
            "Cloning into 'STARVE'...\n",
            "remote: Enumerating objects: 1014, done.\u001b[K\n",
            "remote: Counting objects: 100% (91/91), done.\u001b[K\n",
            "remote: Compressing objects: 100% (74/74), done.\u001b[K\n",
            "remote: Total 1014 (delta 40), reused 37 (delta 17), pack-reused 923\u001b[K\n",
            "Receiving objects: 100% (1014/1014), 135.75 MiB | 34.15 MiB/s, done.\n",
            "Resolving deltas: 100% (589/589), done.\n",
            "Updating files: 100% (1300/1300), done.\n"
          ]
        }
      ]
    },
    {
      "cell_type": "markdown",
      "metadata": {
        "id": "I6hEJV088iqB"
      },
      "source": [
        "# Install Dependencies"
      ]
    },
    {
      "cell_type": "code",
      "metadata": {
        "id": "FpLrbk8M8gWY",
        "outputId": "f0f50174-b10a-4edc-bb83-738c56d4c45f",
        "colab": {
          "base_uri": "https://localhost:8080/"
        }
      },
      "source": [
        "!pip install tensorflow_addons\n",
        "!sudo apt-get install libgoogle-glog-dev  # When using GPU backend\n",
        "!echo /content/STARVE/opticFlow/web_gpudm_1.0_compiled/caffe/.build_release/lib > /etc/ld.so.conf.d/caffe.conf\n",
        "!ldconfig\n",
        "!pip install moviepy\n",
        "!pip install imageio-ffmpeg\n",
        "!pip install --upgrade imageio\n",
        "!pip install --upgrade moviepy\n",
        "#!pip install pip==19.0.2 wheel==0.33.0 \\\n",
        "#&& pip install imageio-ffmpeg==0.2.\n",
        "\n",
        "#!pip install imageio-ffmpeg --no-binary\n",
        "#!pip install ffmpeg  # or equivalent"
      ],
      "execution_count": 2,
      "outputs": [
        {
          "output_type": "stream",
          "name": "stdout",
          "text": [
            "Looking in indexes: https://pypi.org/simple, https://us-python.pkg.dev/colab-wheels/public/simple/\n",
            "Collecting tensorflow_addons\n",
            "  Downloading tensorflow_addons-0.19.0-cp38-cp38-manylinux_2_17_x86_64.manylinux2014_x86_64.whl (1.1 MB)\n",
            "\u001b[2K     \u001b[90m━━━━━━━━━━━━━━━━━━━━━━━━━━━━━━━━━━━━━━━━\u001b[0m \u001b[32m1.1/1.1 MB\u001b[0m \u001b[31m15.5 MB/s\u001b[0m eta \u001b[36m0:00:00\u001b[0m\n",
            "\u001b[?25hRequirement already satisfied: packaging in /usr/local/lib/python3.8/dist-packages (from tensorflow_addons) (23.0)\n",
            "Requirement already satisfied: typeguard>=2.7 in /usr/local/lib/python3.8/dist-packages (from tensorflow_addons) (2.7.1)\n",
            "Installing collected packages: tensorflow_addons\n",
            "Successfully installed tensorflow_addons-0.19.0\n",
            "Reading package lists... Done\n",
            "Building dependency tree       \n",
            "Reading state information... Done\n",
            "The following additional packages will be installed:\n",
            "  libgflags-dev libgflags2.2 libgoogle-glog0v5\n",
            "The following NEW packages will be installed:\n",
            "  libgflags-dev libgflags2.2 libgoogle-glog-dev libgoogle-glog0v5\n",
            "0 upgraded, 4 newly installed, 0 to remove and 22 not upgraded.\n",
            "Need to get 303 kB of archives.\n",
            "After this operation, 1,566 kB of additional disk space will be used.\n",
            "Get:1 http://archive.ubuntu.com/ubuntu focal/universe amd64 libgflags2.2 amd64 2.2.2-1build1 [78.0 kB]\n",
            "Get:2 http://archive.ubuntu.com/ubuntu focal/universe amd64 libgflags-dev amd64 2.2.2-1build1 [96.6 kB]\n",
            "Get:3 http://archive.ubuntu.com/ubuntu focal/universe amd64 libgoogle-glog0v5 amd64 0.4.0-1build1 [51.5 kB]\n",
            "Get:4 http://archive.ubuntu.com/ubuntu focal/universe amd64 libgoogle-glog-dev amd64 0.4.0-1build1 [76.4 kB]\n",
            "Fetched 303 kB in 0s (699 kB/s)\n",
            "debconf: unable to initialize frontend: Dialog\n",
            "debconf: (No usable dialog-like program is installed, so the dialog based frontend cannot be used. at /usr/share/perl5/Debconf/FrontEnd/Dialog.pm line 76, <> line 4.)\n",
            "debconf: falling back to frontend: Readline\n",
            "debconf: unable to initialize frontend: Readline\n",
            "debconf: (This frontend requires a controlling tty.)\n",
            "debconf: falling back to frontend: Teletype\n",
            "dpkg-preconfigure: unable to re-open stdin: \n",
            "Selecting previously unselected package libgflags2.2.\n",
            "(Reading database ... 128216 files and directories currently installed.)\n",
            "Preparing to unpack .../libgflags2.2_2.2.2-1build1_amd64.deb ...\n",
            "Unpacking libgflags2.2 (2.2.2-1build1) ...\n",
            "Selecting previously unselected package libgflags-dev.\n",
            "Preparing to unpack .../libgflags-dev_2.2.2-1build1_amd64.deb ...\n",
            "Unpacking libgflags-dev (2.2.2-1build1) ...\n",
            "Selecting previously unselected package libgoogle-glog0v5.\n",
            "Preparing to unpack .../libgoogle-glog0v5_0.4.0-1build1_amd64.deb ...\n",
            "Unpacking libgoogle-glog0v5 (0.4.0-1build1) ...\n",
            "Selecting previously unselected package libgoogle-glog-dev.\n",
            "Preparing to unpack .../libgoogle-glog-dev_0.4.0-1build1_amd64.deb ...\n",
            "Unpacking libgoogle-glog-dev (0.4.0-1build1) ...\n",
            "Setting up libgflags2.2 (2.2.2-1build1) ...\n",
            "Setting up libgflags-dev (2.2.2-1build1) ...\n",
            "Setting up libgoogle-glog0v5 (0.4.0-1build1) ...\n",
            "Setting up libgoogle-glog-dev (0.4.0-1build1) ...\n",
            "Processing triggers for libc-bin (2.31-0ubuntu9.9) ...\n",
            "Looking in indexes: https://pypi.org/simple, https://us-python.pkg.dev/colab-wheels/public/simple/\n",
            "Requirement already satisfied: moviepy in /usr/local/lib/python3.8/dist-packages (0.2.3.5)\n",
            "Requirement already satisfied: tqdm<5.0,>=4.11.2 in /usr/local/lib/python3.8/dist-packages (from moviepy) (4.64.1)\n",
            "Requirement already satisfied: decorator<5.0,>=4.0.2 in /usr/local/lib/python3.8/dist-packages (from moviepy) (4.4.2)\n",
            "Requirement already satisfied: imageio<3.0,>=2.1.2 in /usr/local/lib/python3.8/dist-packages (from moviepy) (2.9.0)\n",
            "Requirement already satisfied: numpy in /usr/local/lib/python3.8/dist-packages (from moviepy) (1.22.4)\n",
            "Requirement already satisfied: pillow in /usr/local/lib/python3.8/dist-packages (from imageio<3.0,>=2.1.2->moviepy) (8.4.0)\n",
            "Looking in indexes: https://pypi.org/simple, https://us-python.pkg.dev/colab-wheels/public/simple/\n",
            "Collecting imageio-ffmpeg\n",
            "  Downloading imageio_ffmpeg-0.4.8-py3-none-manylinux2010_x86_64.whl (26.9 MB)\n",
            "\u001b[2K     \u001b[90m━━━━━━━━━━━━━━━━━━━━━━━━━━━━━━━━━━━━━━━━\u001b[0m \u001b[32m26.9/26.9 MB\u001b[0m \u001b[31m46.6 MB/s\u001b[0m eta \u001b[36m0:00:00\u001b[0m\n",
            "\u001b[?25hInstalling collected packages: imageio-ffmpeg\n",
            "Successfully installed imageio-ffmpeg-0.4.8\n",
            "Looking in indexes: https://pypi.org/simple, https://us-python.pkg.dev/colab-wheels/public/simple/\n",
            "Requirement already satisfied: imageio in /usr/local/lib/python3.8/dist-packages (2.9.0)\n",
            "Collecting imageio\n",
            "  Downloading imageio-2.26.0-py3-none-any.whl (3.4 MB)\n",
            "\u001b[2K     \u001b[90m━━━━━━━━━━━━━━━━━━━━━━━━━━━━━━━━━━━━━━━━\u001b[0m \u001b[32m3.4/3.4 MB\u001b[0m \u001b[31m35.0 MB/s\u001b[0m eta \u001b[36m0:00:00\u001b[0m\n",
            "\u001b[?25hRequirement already satisfied: pillow>=8.3.2 in /usr/local/lib/python3.8/dist-packages (from imageio) (8.4.0)\n",
            "Requirement already satisfied: numpy in /usr/local/lib/python3.8/dist-packages (from imageio) (1.22.4)\n",
            "Installing collected packages: imageio\n",
            "  Attempting uninstall: imageio\n",
            "    Found existing installation: imageio 2.9.0\n",
            "    Uninstalling imageio-2.9.0:\n",
            "      Successfully uninstalled imageio-2.9.0\n",
            "Successfully installed imageio-2.26.0\n",
            "Looking in indexes: https://pypi.org/simple, https://us-python.pkg.dev/colab-wheels/public/simple/\n",
            "Requirement already satisfied: moviepy in /usr/local/lib/python3.8/dist-packages (0.2.3.5)\n",
            "Collecting moviepy\n",
            "  Downloading moviepy-1.0.3.tar.gz (388 kB)\n",
            "\u001b[2K     \u001b[90m━━━━━━━━━━━━━━━━━━━━━━━━━━━━━━━━━━━━━━━\u001b[0m \u001b[32m388.3/388.3 KB\u001b[0m \u001b[31m8.1 MB/s\u001b[0m eta \u001b[36m0:00:00\u001b[0m\n",
            "\u001b[?25h  Preparing metadata (setup.py) ... \u001b[?25l\u001b[?25hdone\n",
            "Requirement already satisfied: decorator<5.0,>=4.0.2 in /usr/local/lib/python3.8/dist-packages (from moviepy) (4.4.2)\n",
            "Requirement already satisfied: tqdm<5.0,>=4.11.2 in /usr/local/lib/python3.8/dist-packages (from moviepy) (4.64.1)\n",
            "Requirement already satisfied: requests<3.0,>=2.8.1 in /usr/local/lib/python3.8/dist-packages (from moviepy) (2.25.1)\n",
            "Collecting proglog<=1.0.0\n",
            "  Downloading proglog-0.1.10-py3-none-any.whl (6.1 kB)\n",
            "Requirement already satisfied: numpy>=1.17.3 in /usr/local/lib/python3.8/dist-packages (from moviepy) (1.22.4)\n",
            "Requirement already satisfied: imageio<3.0,>=2.5 in /usr/local/lib/python3.8/dist-packages (from moviepy) (2.26.0)\n",
            "Requirement already satisfied: imageio_ffmpeg>=0.2.0 in /usr/local/lib/python3.8/dist-packages (from moviepy) (0.4.8)\n",
            "Requirement already satisfied: pillow>=8.3.2 in /usr/local/lib/python3.8/dist-packages (from imageio<3.0,>=2.5->moviepy) (8.4.0)\n",
            "Requirement already satisfied: urllib3<1.27,>=1.21.1 in /usr/local/lib/python3.8/dist-packages (from requests<3.0,>=2.8.1->moviepy) (1.26.14)\n",
            "Requirement already satisfied: chardet<5,>=3.0.2 in /usr/local/lib/python3.8/dist-packages (from requests<3.0,>=2.8.1->moviepy) (4.0.0)\n",
            "Requirement already satisfied: certifi>=2017.4.17 in /usr/local/lib/python3.8/dist-packages (from requests<3.0,>=2.8.1->moviepy) (2022.12.7)\n",
            "Requirement already satisfied: idna<3,>=2.5 in /usr/local/lib/python3.8/dist-packages (from requests<3.0,>=2.8.1->moviepy) (2.10)\n",
            "Building wheels for collected packages: moviepy\n",
            "  Building wheel for moviepy (setup.py) ... \u001b[?25l\u001b[?25hdone\n",
            "  Created wheel for moviepy: filename=moviepy-1.0.3-py3-none-any.whl size=110742 sha256=d38ef12a3cfe640c95f5f7c3207a463fded0b4511684c63cef3ed3d0c07f37ff\n",
            "  Stored in directory: /root/.cache/pip/wheels/e4/a4/db/0368d3a04033da662e13926594b3a8cf1aa4ffeefe570cfac1\n",
            "Successfully built moviepy\n",
            "Installing collected packages: proglog, moviepy\n",
            "  Attempting uninstall: moviepy\n",
            "    Found existing installation: moviepy 0.2.3.5\n",
            "    Uninstalling moviepy-0.2.3.5:\n",
            "      Successfully uninstalled moviepy-0.2.3.5\n",
            "Successfully installed moviepy-1.0.3 proglog-0.1.10\n"
          ]
        }
      ]
    },
    {
      "cell_type": "markdown",
      "metadata": {
        "id": "ioGnhE-D7hag"
      },
      "source": [
        "# Run the Code"
      ]
    },
    {
      "cell_type": "markdown",
      "metadata": {
        "id": "u195I-qo9TwC"
      },
      "source": [
        "## Run a Single Image"
      ]
    },
    {
      "cell_type": "markdown",
      "metadata": {
        "id": "rSEWRZae9kpZ"
      },
      "source": [
        "In `hyperparams/dataset_param.py`, \n",
        "*   set `use_video = False`\n",
        "*   set `content_img_path`\n",
        "*   set `style_img_path`\n",
        "\n",
        "The stylized image will be saved in `output/`."
      ]
    },
    {
      "cell_type": "markdown",
      "metadata": {
        "id": "TskmbBH29ZMT"
      },
      "source": [
        "## Run a Video"
      ]
    },
    {
      "cell_type": "markdown",
      "metadata": {
        "id": "i55E51nl9flh"
      },
      "source": [
        "In `hyperparams/dataset_param.py`, \n",
        "*   set `use_video = True`\n",
        "*   set `video_path`\n",
        "*   set `style_img_path`\n",
        "*   set `video_fps`\n",
        "\n",
        "The stylized video will be saved in `output/`.\n",
        "\n",
        "Furthermore, follow the instructions below to use specific losses.\n"
      ]
    },
    {
      "cell_type": "markdown",
      "metadata": {
        "id": "xUTQZr0y9cbT"
      },
      "source": [
        "### Content Loss + Style Loss + Total Variation (TV) Loss"
      ]
    },
    {
      "cell_type": "markdown",
      "metadata": {
        "id": "46q-_Amm_tde"
      },
      "source": [
        "In `hyperparams/train_param.py`,\n",
        "*   set `n_step = 150`\n",
        "*   set `n_passes = 1`\n",
        "*   set `use_optic_flow = False`"
      ]
    },
    {
      "cell_type": "markdown",
      "metadata": {
        "id": "NeiHDMEqAgIa"
      },
      "source": [
        "### Content Loss + Style Loss + TV Loss + Short-Term Temporal Loss"
      ]
    },
    {
      "cell_type": "markdown",
      "metadata": {
        "id": "QLk0sYLnBDis"
      },
      "source": [
        "In `hyperparams/train_param.py`,\n",
        "*   set `n_step = 150`\n",
        "*   set `n_passes = 1`\n",
        "*   set `use_optic_flow = True`\n",
        "*   set `use_deep_matching_gpu = True`\n",
        "\n",
        "In `hyperparams/dataset_param.py`,\n",
        "*   set `init_generated_image_method = 'image_flow_warp'`\n",
        "\n",
        "In `hyperparams/loss_param.py`,\n",
        "*   set `J = [1]`"
      ]
    },
    {
      "cell_type": "markdown",
      "metadata": {
        "id": "p-uSnJP2BeFV"
      },
      "source": [
        "### Content Loss + Style Loss + TV Loss + Long-Term Temporal Loss"
      ]
    },
    {
      "cell_type": "markdown",
      "metadata": {
        "id": "sUXJ-hXsBiuA"
      },
      "source": [
        "In `hyperparams/train_param.py`,\n",
        "*   set `n_step = 150`\n",
        "*   set `n_passes = 1`\n",
        "*   set `use_optic_flow = True`\n",
        "*   set `use_deep_matching_gpu = True`\n",
        "\n",
        "In `hyperparams/dataset_param.py`,\n",
        "*   set `init_generated_image_method = 'image_flow_warp'`\n",
        "\n",
        "In `hyperparams/loss_param.py`,\n",
        "*   set `J = [1, 10, 20, 40]`, or any list of integers with more than one element"
      ]
    },
    {
      "cell_type": "markdown",
      "metadata": {
        "id": "01pnwdycCthJ"
      },
      "source": [
        "### Content Loss + Style Loss + TV Loss + Multi-Pass (Short-Term Temporal Loss)"
      ]
    },
    {
      "cell_type": "markdown",
      "metadata": {
        "id": "VUgWwtonC0dX"
      },
      "source": [
        "In `hyperparams/train_param.py`,\n",
        "*   set `n_step = 10`, or any integer > 1, `n_step` * `n_passes` is the total number of iterations\n",
        "*   set `n_passes = 15`, or any integer > 1, `n_step` * `n_passes` is the total number of iterations\n",
        "*   set `use_optic_flow = True`\n",
        "*   set `use_deep_matching_gpu = True`\n",
        "\n",
        "In `hyperparams/dataset_param.py`,\n",
        "*   set `init_generated_image_method = 'image'`\n",
        "\n",
        "In `hyperparams/loss_param.py`,\n",
        "*   set `use_temporal_pass = 8`, or any integer > 0, indicating from which pass to use short-term temporal loss"
      ]
    },
    {
      "cell_type": "code",
      "metadata": {
        "id": "1RhuymdR7mG8",
        "colab": {
          "base_uri": "https://localhost:8080/"
        },
        "outputId": "21153e9c-b29b-4cf6-f8a1-4143d1d26b3e"
      },
      "source": [
        "%cd /content/STARVE/\n",
        "!python main.py"
      ],
      "execution_count": 3,
      "outputs": [
        {
          "output_type": "stream",
          "name": "stdout",
          "text": [
            "/content/STARVE\n",
            "2023-03-07 18:37:13.862531: I tensorflow/core/platform/cpu_feature_guard.cc:193] This TensorFlow binary is optimized with oneAPI Deep Neural Network Library (oneDNN) to use the following CPU instructions in performance-critical operations:  AVX2 FMA\n",
            "To enable them in other operations, rebuild TensorFlow with the appropriate compiler flags.\n",
            "2023-03-07 18:37:15.427380: W tensorflow/compiler/xla/stream_executor/platform/default/dso_loader.cc:64] Could not load dynamic library 'libnvinfer.so.7'; dlerror: libnvinfer.so.7: cannot open shared object file: No such file or directory; LD_LIBRARY_PATH: /usr/local/nvidia/lib:/usr/local/nvidia/lib64\n",
            "2023-03-07 18:37:15.427482: W tensorflow/compiler/xla/stream_executor/platform/default/dso_loader.cc:64] Could not load dynamic library 'libnvinfer_plugin.so.7'; dlerror: libnvinfer_plugin.so.7: cannot open shared object file: No such file or directory; LD_LIBRARY_PATH: /usr/local/nvidia/lib:/usr/local/nvidia/lib64\n",
            "2023-03-07 18:37:15.427501: W tensorflow/compiler/tf2tensorrt/utils/py_utils.cc:38] TF-TRT Warning: Cannot dlopen some TensorRT libraries. If you would like to use Nvidia GPU with TensorRT, please make sure the missing libraries mentioned above are installed properly.\n",
            "Convert video to frames: 132it [00:03, 42.10it/s]\n",
            "g++ -O3 -fPIC consistencyChecker.cpp NMath.cpp -I. -o consistencyChecker -L. \n",
            "  File \"opticFlow/web_gpudm_1.0_compiled/deep_matching_gpu_folder.py\", line 179\n",
            "    print \"layer %d, patch_size = %dx%d,\" % (L, psize, psize),\n",
            "          ^\n",
            "SyntaxError: invalid syntax\n",
            "Optic flow interval=1:   0% 0/131 [00:00<?, ?it/s, 1.jpg and 2.jpg]cat: output/optic_flow/forward_1_2.txt: No such file or directory\n",
            "cat: output/optic_flow/backward_2_1.txt: No such file or directory\n",
            "Optic flow interval=1:   1% 1/131 [00:49<1:47:50, 49.77s/it, 2.jpg and 3.jpg]cat: output/optic_flow/forward_2_3.txt: No such file or directory\n",
            "cat: output/optic_flow/backward_3_2.txt: No such file or directory\n",
            "Optic flow interval=1:   2% 2/131 [01:38<1:45:10, 48.92s/it, 3.jpg and 4.jpg]cat: output/optic_flow/forward_3_4.txt: No such file or directory\n",
            "cat: output/optic_flow/backward_4_3.txt: No such file or directory\n",
            "Optic flow interval=1:   2% 3/131 [02:26<1:43:34, 48.55s/it, 4.jpg and 5.jpg]cat: output/optic_flow/forward_4_5.txt: No such file or directory\n",
            "cat: output/optic_flow/backward_5_4.txt: No such file or directory\n",
            "Optic flow interval=1:   3% 4/131 [03:15<1:43:02, 48.68s/it, 5.jpg and 6.jpg]cat: output/optic_flow/forward_5_6.txt: No such file or directory\n",
            "cat: output/optic_flow/backward_6_5.txt: No such file or directory\n",
            "Optic flow interval=1:   4% 5/131 [04:05<1:43:18, 49.19s/it, 6.jpg and 7.jpg]cat: output/optic_flow/forward_6_7.txt: No such file or directory\n",
            "cat: output/optic_flow/backward_7_6.txt: No such file or directory\n",
            "Optic flow interval=1:   5% 6/131 [04:54<1:42:50, 49.37s/it, 7.jpg and 8.jpg]cat: output/optic_flow/forward_7_8.txt: No such file or directory\n",
            "cat: output/optic_flow/backward_8_7.txt: No such file or directory\n",
            "Optic flow interval=1:   5% 7/131 [05:44<1:42:18, 49.50s/it, 8.jpg and 9.jpg]cat: output/optic_flow/forward_8_9.txt: No such file or directory\n",
            "cat: output/optic_flow/backward_9_8.txt: No such file or directory\n",
            "Optic flow interval=1:   6% 8/131 [06:33<1:41:19, 49.42s/it, 9.jpg and 10.jpg]cat: output/optic_flow/forward_9_10.txt: No such file or directory\n",
            "cat: output/optic_flow/backward_10_9.txt: No such file or directory\n",
            "Optic flow interval=1:   7% 9/131 [07:23<1:40:22, 49.36s/it, 10.jpg and 11.jpg]cat: output/optic_flow/forward_10_11.txt: No such file or directory\n",
            "cat: output/optic_flow/backward_11_10.txt: No such file or directory\n",
            "Optic flow interval=1:   8% 10/131 [08:11<1:39:08, 49.16s/it, 11.jpg and 12.jpg]cat: output/optic_flow/forward_11_12.txt: No such file or directory\n",
            "cat: output/optic_flow/backward_12_11.txt: No such file or directory\n",
            "Optic flow interval=1:   8% 11/131 [09:00<1:38:07, 49.06s/it, 12.jpg and 13.jpg]cat: output/optic_flow/forward_12_13.txt: No such file or directory\n",
            "cat: output/optic_flow/backward_13_12.txt: No such file or directory\n",
            "Optic flow interval=1:   9% 12/131 [09:51<1:38:13, 49.53s/it, 13.jpg and 14.jpg]cat: output/optic_flow/forward_13_14.txt: No such file or directory\n",
            "cat: output/optic_flow/backward_14_13.txt: No such file or directory\n",
            "Optic flow interval=1:  10% 13/131 [10:41<1:37:50, 49.75s/it, 14.jpg and 15.jpg]cat: output/optic_flow/forward_14_15.txt: No such file or directory\n",
            "cat: output/optic_flow/backward_15_14.txt: No such file or directory\n",
            "Optic flow interval=1:  11% 14/131 [11:30<1:36:15, 49.36s/it, 15.jpg and 16.jpg]cat: output/optic_flow/forward_15_16.txt: No such file or directory\n",
            "cat: output/optic_flow/backward_16_15.txt: No such file or directory\n",
            "Optic flow interval=1:  11% 15/131 [12:18<1:34:44, 49.00s/it, 16.jpg and 17.jpg]cat: output/optic_flow/forward_16_17.txt: No such file or directory\n",
            "cat: output/optic_flow/backward_17_16.txt: No such file or directory\n",
            "Optic flow interval=1:  12% 16/131 [13:07<1:34:14, 49.17s/it, 17.jpg and 18.jpg]cat: output/optic_flow/forward_17_18.txt: No such file or directory\n",
            "cat: output/optic_flow/backward_18_17.txt: No such file or directory\n",
            "Optic flow interval=1:  13% 17/131 [13:57<1:33:54, 49.42s/it, 18.jpg and 19.jpg]cat: output/optic_flow/forward_18_19.txt: No such file or directory\n",
            "cat: output/optic_flow/backward_19_18.txt: No such file or directory\n",
            "Optic flow interval=1:  14% 18/131 [14:48<1:33:34, 49.69s/it, 19.jpg and 20.jpg]cat: output/optic_flow/forward_19_20.txt: No such file or directory\n",
            "cat: output/optic_flow/backward_20_19.txt: No such file or directory\n",
            "Optic flow interval=1:  15% 19/131 [15:38<1:33:17, 49.98s/it, 20.jpg and 21.jpg]cat: output/optic_flow/forward_20_21.txt: No such file or directory\n",
            "cat: output/optic_flow/backward_21_20.txt: No such file or directory\n",
            "Optic flow interval=1:  15% 20/131 [16:28<1:32:15, 49.87s/it, 21.jpg and 22.jpg]cat: output/optic_flow/forward_21_22.txt: No such file or directory\n",
            "cat: output/optic_flow/backward_22_21.txt: No such file or directory\n",
            "Optic flow interval=1:  16% 21/131 [17:16<1:30:35, 49.41s/it, 22.jpg and 23.jpg]cat: output/optic_flow/forward_22_23.txt: No such file or directory\n",
            "cat: output/optic_flow/backward_23_22.txt: No such file or directory\n",
            "Optic flow interval=1:  17% 22/131 [18:05<1:29:27, 49.24s/it, 23.jpg and 24.jpg]cat: output/optic_flow/forward_23_24.txt: No such file or directory\n",
            "cat: output/optic_flow/backward_24_23.txt: No such file or directory\n",
            "Optic flow interval=1:  18% 23/131 [18:53<1:27:51, 48.81s/it, 24.jpg and 25.jpg]cat: output/optic_flow/forward_24_25.txt: No such file or directory\n",
            "cat: output/optic_flow/backward_25_24.txt: No such file or directory\n",
            "Optic flow interval=1:  18% 24/131 [19:42<1:27:04, 48.83s/it, 25.jpg and 26.jpg]cat: output/optic_flow/forward_25_26.txt: No such file or directory\n",
            "cat: output/optic_flow/backward_26_25.txt: No such file or directory\n",
            "Optic flow interval=1:  19% 25/131 [20:31<1:26:36, 49.02s/it, 26.jpg and 27.jpg]cat: output/optic_flow/forward_26_27.txt: No such file or directory\n",
            "cat: output/optic_flow/backward_27_26.txt: No such file or directory\n",
            "Optic flow interval=1:  20% 26/131 [21:21<1:26:01, 49.16s/it, 27.jpg and 28.jpg]cat: output/optic_flow/forward_27_28.txt: No such file or directory\n",
            "cat: output/optic_flow/backward_28_27.txt: No such file or directory\n",
            "Optic flow interval=1:  21% 27/131 [22:10<1:25:17, 49.21s/it, 28.jpg and 29.jpg]cat: output/optic_flow/forward_28_29.txt: No such file or directory\n",
            "cat: output/optic_flow/backward_29_28.txt: No such file or directory\n",
            "Optic flow interval=1:  21% 28/131 [23:01<1:25:25, 49.76s/it, 29.jpg and 30.jpg]cat: output/optic_flow/forward_29_30.txt: No such file or directory\n",
            "cat: output/optic_flow/backward_30_29.txt: No such file or directory\n",
            "Optic flow interval=1:  22% 29/131 [23:53<1:25:29, 50.29s/it, 30.jpg and 31.jpg]cat: output/optic_flow/forward_30_31.txt: No such file or directory\n",
            "cat: output/optic_flow/backward_31_30.txt: No such file or directory\n",
            "Optic flow interval=1:  23% 30/131 [24:43<1:24:38, 50.28s/it, 31.jpg and 32.jpg]cat: output/optic_flow/forward_31_32.txt: No such file or directory\n",
            "cat: output/optic_flow/backward_32_31.txt: No such file or directory\n",
            "Optic flow interval=1:  24% 31/131 [25:34<1:24:19, 50.59s/it, 32.jpg and 33.jpg]cat: output/optic_flow/forward_32_33.txt: No such file or directory\n",
            "cat: output/optic_flow/backward_33_32.txt: No such file or directory\n",
            "Optic flow interval=1:  24% 32/131 [26:24<1:23:17, 50.48s/it, 33.jpg and 34.jpg]cat: output/optic_flow/forward_33_34.txt: No such file or directory\n",
            "cat: output/optic_flow/backward_34_33.txt: No such file or directory\n",
            "Optic flow interval=1:  25% 33/131 [27:14<1:21:58, 50.19s/it, 34.jpg and 35.jpg]cat: output/optic_flow/forward_34_35.txt: No such file or directory\n",
            "cat: output/optic_flow/backward_35_34.txt: No such file or directory\n",
            "Optic flow interval=1:  26% 34/131 [28:03<1:20:39, 49.90s/it, 35.jpg and 36.jpg]cat: output/optic_flow/forward_35_36.txt: No such file or directory\n",
            "cat: output/optic_flow/backward_36_35.txt: No such file or directory\n",
            "Optic flow interval=1:  27% 35/131 [28:54<1:20:06, 50.07s/it, 36.jpg and 37.jpg]cat: output/optic_flow/forward_36_37.txt: No such file or directory\n",
            "cat: output/optic_flow/backward_37_36.txt: No such file or directory\n",
            "Optic flow interval=1:  27% 36/131 [29:45<1:19:55, 50.48s/it, 37.jpg and 38.jpg]cat: output/optic_flow/forward_37_38.txt: No such file or directory\n",
            "cat: output/optic_flow/backward_38_37.txt: No such file or directory\n",
            "Optic flow interval=1:  28% 37/131 [30:35<1:18:50, 50.33s/it, 38.jpg and 39.jpg]cat: output/optic_flow/forward_38_39.txt: No such file or directory\n",
            "cat: output/optic_flow/backward_39_38.txt: No such file or directory\n",
            "Optic flow interval=1:  29% 38/131 [31:25<1:18:05, 50.38s/it, 39.jpg and 40.jpg]cat: output/optic_flow/forward_39_40.txt: No such file or directory\n",
            "cat: output/optic_flow/backward_40_39.txt: No such file or directory\n",
            "Optic flow interval=1:  30% 39/131 [32:14<1:16:29, 49.89s/it, 40.jpg and 41.jpg]cat: output/optic_flow/forward_40_41.txt: No such file or directory\n",
            "cat: output/optic_flow/backward_41_40.txt: No such file or directory\n",
            "Optic flow interval=1:  31% 40/131 [33:04<1:15:36, 49.85s/it, 41.jpg and 42.jpg]cat: output/optic_flow/forward_41_42.txt: No such file or directory\n",
            "cat: output/optic_flow/backward_42_41.txt: No such file or directory\n",
            "Optic flow interval=1:  31% 41/131 [33:54<1:14:51, 49.91s/it, 42.jpg and 43.jpg]cat: output/optic_flow/forward_42_43.txt: No such file or directory\n",
            "cat: output/optic_flow/backward_43_42.txt: No such file or directory\n",
            "Optic flow interval=1:  32% 42/131 [34:45<1:14:20, 50.12s/it, 43.jpg and 44.jpg]cat: output/optic_flow/forward_43_44.txt: No such file or directory\n",
            "cat: output/optic_flow/backward_44_43.txt: No such file or directory\n",
            "Optic flow interval=1:  33% 43/131 [35:36<1:13:54, 50.39s/it, 44.jpg and 45.jpg]cat: output/optic_flow/forward_44_45.txt: No such file or directory\n",
            "cat: output/optic_flow/backward_45_44.txt: No such file or directory\n",
            "Optic flow interval=1:  34% 44/131 [36:26<1:12:57, 50.31s/it, 45.jpg and 46.jpg]cat: output/optic_flow/forward_45_46.txt: No such file or directory\n",
            "cat: output/optic_flow/backward_46_45.txt: No such file or directory\n",
            "Optic flow interval=1:  34% 45/131 [37:15<1:11:48, 50.10s/it, 46.jpg and 47.jpg]cat: output/optic_flow/forward_46_47.txt: No such file or directory\n",
            "cat: output/optic_flow/backward_47_46.txt: No such file or directory\n",
            "Optic flow interval=1:  35% 46/131 [38:04<1:10:33, 49.80s/it, 47.jpg and 48.jpg]cat: output/optic_flow/forward_47_48.txt: No such file or directory\n",
            "cat: output/optic_flow/backward_48_47.txt: No such file or directory\n",
            "Optic flow interval=1:  36% 47/131 [38:53<1:09:01, 49.31s/it, 48.jpg and 49.jpg]cat: output/optic_flow/forward_48_49.txt: No such file or directory\n",
            "cat: output/optic_flow/backward_49_48.txt: No such file or directory\n",
            "Optic flow interval=1:  37% 48/131 [39:43<1:08:29, 49.51s/it, 49.jpg and 50.jpg]cat: output/optic_flow/forward_49_50.txt: No such file or directory\n",
            "cat: output/optic_flow/backward_50_49.txt: No such file or directory\n",
            "Optic flow interval=1:  37% 49/131 [40:33<1:07:52, 49.67s/it, 50.jpg and 51.jpg]cat: output/optic_flow/forward_50_51.txt: No such file or directory\n",
            "cat: output/optic_flow/backward_51_50.txt: No such file or directory\n",
            "Optic flow interval=1:  38% 50/131 [41:22<1:06:45, 49.46s/it, 51.jpg and 52.jpg]cat: output/optic_flow/forward_51_52.txt: No such file or directory\n",
            "cat: output/optic_flow/backward_52_51.txt: No such file or directory\n",
            "Optic flow interval=1:  39% 51/131 [42:11<1:06:01, 49.52s/it, 52.jpg and 53.jpg]cat: output/optic_flow/forward_52_53.txt: No such file or directory\n",
            "cat: output/optic_flow/backward_53_52.txt: No such file or directory\n",
            "Optic flow interval=1:  40% 52/131 [43:01<1:05:25, 49.68s/it, 53.jpg and 54.jpg]cat: output/optic_flow/forward_53_54.txt: No such file or directory\n",
            "cat: output/optic_flow/backward_54_53.txt: No such file or directory\n",
            "Optic flow interval=1:  40% 53/131 [43:51<1:04:25, 49.56s/it, 54.jpg and 55.jpg]cat: output/optic_flow/forward_54_55.txt: No such file or directory\n",
            "cat: output/optic_flow/backward_55_54.txt: No such file or directory\n",
            "Optic flow interval=1:  41% 54/131 [44:41<1:03:49, 49.74s/it, 55.jpg and 56.jpg]cat: output/optic_flow/forward_55_56.txt: No such file or directory\n",
            "cat: output/optic_flow/backward_56_55.txt: No such file or directory\n",
            "Optic flow interval=1:  42% 55/131 [45:31<1:03:01, 49.75s/it, 56.jpg and 57.jpg]cat: output/optic_flow/forward_56_57.txt: No such file or directory\n",
            "cat: output/optic_flow/backward_57_56.txt: No such file or directory\n",
            "Optic flow interval=1:  43% 56/131 [46:21<1:02:19, 49.86s/it, 57.jpg and 58.jpg]cat: output/optic_flow/forward_57_58.txt: No such file or directory\n",
            "cat: output/optic_flow/backward_58_57.txt: No such file or directory\n",
            "Optic flow interval=1:  44% 57/131 [47:11<1:01:48, 50.11s/it, 58.jpg and 59.jpg]cat: output/optic_flow/forward_58_59.txt: No such file or directory\n",
            "cat: output/optic_flow/backward_59_58.txt: No such file or directory\n",
            "Optic flow interval=1:  44% 58/131 [48:02<1:01:02, 50.17s/it, 59.jpg and 60.jpg]cat: output/optic_flow/forward_59_60.txt: No such file or directory\n",
            "cat: output/optic_flow/backward_60_59.txt: No such file or directory\n",
            "Optic flow interval=1:  45% 59/131 [48:50<59:31, 49.60s/it, 60.jpg and 61.jpg]cat: output/optic_flow/forward_60_61.txt: No such file or directory\n",
            "cat: output/optic_flow/backward_61_60.txt: No such file or directory\n",
            "Optic flow interval=1:  46% 60/131 [49:40<58:41, 49.59s/it, 61.jpg and 62.jpg]cat: output/optic_flow/forward_61_62.txt: No such file or directory\n",
            "cat: output/optic_flow/backward_62_61.txt: No such file or directory\n",
            "Optic flow interval=1:  47% 61/131 [50:29<57:54, 49.63s/it, 62.jpg and 63.jpg]cat: output/optic_flow/forward_62_63.txt: No such file or directory\n",
            "cat: output/optic_flow/backward_63_62.txt: No such file or directory\n",
            "Optic flow interval=1:  47% 62/131 [51:20<57:21, 49.88s/it, 63.jpg and 64.jpg]cat: output/optic_flow/forward_63_64.txt: No such file or directory\n",
            "cat: output/optic_flow/backward_64_63.txt: No such file or directory\n",
            "Optic flow interval=1:  48% 63/131 [52:09<56:20, 49.71s/it, 64.jpg and 65.jpg]cat: output/optic_flow/forward_64_65.txt: No such file or directory\n",
            "cat: output/optic_flow/backward_65_64.txt: No such file or directory\n",
            "Optic flow interval=1:  49% 64/131 [53:01<56:09, 50.29s/it, 65.jpg and 66.jpg]cat: output/optic_flow/forward_65_66.txt: No such file or directory\n",
            "cat: output/optic_flow/backward_66_65.txt: No such file or directory\n",
            "Optic flow interval=1:  50% 65/131 [53:52<55:34, 50.52s/it, 66.jpg and 67.jpg]cat: output/optic_flow/forward_66_67.txt: No such file or directory\n",
            "cat: output/optic_flow/backward_67_66.txt: No such file or directory\n",
            "Optic flow interval=1:  50% 66/131 [54:44<55:14, 51.00s/it, 67.jpg and 68.jpg]cat: output/optic_flow/forward_67_68.txt: No such file or directory\n",
            "cat: output/optic_flow/backward_68_67.txt: No such file or directory\n",
            "Optic flow interval=1:  51% 67/131 [55:35<54:31, 51.12s/it, 68.jpg and 69.jpg]cat: output/optic_flow/forward_68_69.txt: No such file or directory\n",
            "cat: output/optic_flow/backward_69_68.txt: No such file or directory\n",
            "Optic flow interval=1:  52% 68/131 [56:25<53:19, 50.79s/it, 69.jpg and 70.jpg]cat: output/optic_flow/forward_69_70.txt: No such file or directory\n",
            "cat: output/optic_flow/backward_70_69.txt: No such file or directory\n",
            "Optic flow interval=1:  53% 69/131 [57:16<52:27, 50.76s/it, 70.jpg and 71.jpg]cat: output/optic_flow/forward_70_71.txt: No such file or directory\n",
            "cat: output/optic_flow/backward_71_70.txt: No such file or directory\n",
            "Optic flow interval=1:  53% 70/131 [58:06<51:26, 50.60s/it, 71.jpg and 72.jpg]cat: output/optic_flow/forward_71_72.txt: No such file or directory\n",
            "cat: output/optic_flow/backward_72_71.txt: No such file or directory\n",
            "Optic flow interval=1:  54% 71/131 [58:56<50:22, 50.37s/it, 72.jpg and 73.jpg]cat: output/optic_flow/forward_72_73.txt: No such file or directory\n",
            "cat: output/optic_flow/backward_73_72.txt: No such file or directory\n",
            "Optic flow interval=1:  55% 72/131 [59:46<49:27, 50.30s/it, 73.jpg and 74.jpg]cat: output/optic_flow/forward_73_74.txt: No such file or directory\n",
            "cat: output/optic_flow/backward_74_73.txt: No such file or directory\n",
            "Optic flow interval=1:  56% 73/131 [1:00:36<48:29, 50.16s/it, 74.jpg and 75.jpg]cat: output/optic_flow/forward_74_75.txt: No such file or directory\n",
            "cat: output/optic_flow/backward_75_74.txt: No such file or directory\n",
            "Optic flow interval=1:  56% 74/131 [1:01:26<47:36, 50.11s/it, 75.jpg and 76.jpg]cat: output/optic_flow/forward_75_76.txt: No such file or directory\n",
            "cat: output/optic_flow/backward_76_75.txt: No such file or directory\n",
            "Optic flow interval=1:  57% 75/131 [1:02:15<46:32, 49.87s/it, 76.jpg and 77.jpg]cat: output/optic_flow/forward_76_77.txt: No such file or directory\n",
            "cat: output/optic_flow/backward_77_76.txt: No such file or directory\n",
            "Optic flow interval=1:  58% 76/131 [1:03:06<45:51, 50.03s/it, 77.jpg and 78.jpg]cat: output/optic_flow/forward_77_78.txt: No such file or directory\n",
            "cat: output/optic_flow/backward_78_77.txt: No such file or directory\n",
            "Optic flow interval=1:  59% 77/131 [1:03:55<44:54, 49.90s/it, 78.jpg and 79.jpg]cat: output/optic_flow/forward_78_79.txt: No such file or directory\n",
            "cat: output/optic_flow/backward_79_78.txt: No such file or directory\n",
            "Optic flow interval=1:  60% 78/131 [1:04:45<44:03, 49.88s/it, 79.jpg and 80.jpg]cat: output/optic_flow/forward_79_80.txt: No such file or directory\n",
            "cat: output/optic_flow/backward_80_79.txt: No such file or directory\n",
            "Optic flow interval=1:  60% 79/131 [1:05:35<43:15, 49.91s/it, 80.jpg and 81.jpg]cat: output/optic_flow/forward_80_81.txt: No such file or directory\n",
            "cat: output/optic_flow/backward_81_80.txt: No such file or directory\n",
            "Optic flow interval=1:  61% 80/131 [1:06:25<42:27, 49.94s/it, 81.jpg and 82.jpg]cat: output/optic_flow/forward_81_82.txt: No such file or directory\n",
            "cat: output/optic_flow/backward_82_81.txt: No such file or directory\n",
            "Optic flow interval=1:  62% 81/131 [1:07:14<41:13, 49.48s/it, 82.jpg and 83.jpg]cat: output/optic_flow/forward_82_83.txt: No such file or directory\n",
            "cat: output/optic_flow/backward_83_82.txt: No such file or directory\n",
            "Optic flow interval=1:  63% 82/131 [1:08:02<40:08, 49.16s/it, 83.jpg and 84.jpg]cat: output/optic_flow/forward_83_84.txt: No such file or directory\n",
            "cat: output/optic_flow/backward_84_83.txt: No such file or directory\n",
            "Optic flow interval=1:  63% 83/131 [1:08:52<39:39, 49.57s/it, 84.jpg and 85.jpg]cat: output/optic_flow/forward_84_85.txt: No such file or directory\n",
            "cat: output/optic_flow/backward_85_84.txt: No such file or directory\n",
            "Optic flow interval=1:  64% 84/131 [1:09:42<38:55, 49.69s/it, 85.jpg and 86.jpg]cat: output/optic_flow/forward_85_86.txt: No such file or directory\n",
            "cat: output/optic_flow/backward_86_85.txt: No such file or directory\n",
            "Optic flow interval=1:  65% 85/131 [1:10:31<37:56, 49.49s/it, 86.jpg and 87.jpg]cat: output/optic_flow/forward_86_87.txt: No such file or directory\n",
            "cat: output/optic_flow/backward_87_86.txt: No such file or directory\n",
            "Optic flow interval=1:  66% 86/131 [1:11:21<37:05, 49.46s/it, 87.jpg and 88.jpg]cat: output/optic_flow/forward_87_88.txt: No such file or directory\n",
            "cat: output/optic_flow/backward_88_87.txt: No such file or directory\n",
            "Optic flow interval=1:  66% 87/131 [1:12:11<36:20, 49.55s/it, 88.jpg and 89.jpg]cat: output/optic_flow/forward_88_89.txt: No such file or directory\n",
            "cat: output/optic_flow/backward_89_88.txt: No such file or directory\n",
            "Optic flow interval=1:  67% 88/131 [1:12:59<35:17, 49.25s/it, 89.jpg and 90.jpg]cat: output/optic_flow/forward_89_90.txt: No such file or directory\n",
            "cat: output/optic_flow/backward_90_89.txt: No such file or directory\n",
            "Optic flow interval=1:  68% 89/131 [1:13:48<34:28, 49.25s/it, 90.jpg and 91.jpg]cat: output/optic_flow/forward_90_91.txt: No such file or directory\n",
            "cat: output/optic_flow/backward_91_90.txt: No such file or directory\n",
            "Optic flow interval=1:  69% 90/131 [1:14:38<33:49, 49.50s/it, 91.jpg and 92.jpg]cat: output/optic_flow/forward_91_92.txt: No such file or directory\n",
            "cat: output/optic_flow/backward_92_91.txt: No such file or directory\n",
            "Optic flow interval=1:  69% 91/131 [1:15:28<33:01, 49.53s/it, 92.jpg and 93.jpg]cat: output/optic_flow/forward_92_93.txt: No such file or directory\n",
            "cat: output/optic_flow/backward_93_92.txt: No such file or directory\n",
            "Optic flow interval=1:  70% 92/131 [1:16:18<32:13, 49.57s/it, 93.jpg and 94.jpg]cat: output/optic_flow/forward_93_94.txt: No such file or directory\n",
            "cat: output/optic_flow/backward_94_93.txt: No such file or directory\n",
            "Optic flow interval=1:  71% 93/131 [1:17:07<31:18, 49.43s/it, 94.jpg and 95.jpg]cat: output/optic_flow/forward_94_95.txt: No such file or directory\n",
            "cat: output/optic_flow/backward_95_94.txt: No such file or directory\n",
            "Optic flow interval=1:  72% 94/131 [1:17:56<30:30, 49.46s/it, 95.jpg and 96.jpg]cat: output/optic_flow/forward_95_96.txt: No such file or directory\n",
            "cat: output/optic_flow/backward_96_95.txt: No such file or directory\n",
            "Optic flow interval=1:  73% 95/131 [1:18:46<29:46, 49.61s/it, 96.jpg and 97.jpg]cat: output/optic_flow/forward_96_97.txt: No such file or directory\n",
            "cat: output/optic_flow/backward_97_96.txt: No such file or directory\n",
            "Optic flow interval=1:  73% 96/131 [1:19:36<29:00, 49.72s/it, 97.jpg and 98.jpg]cat: output/optic_flow/forward_97_98.txt: No such file or directory\n",
            "cat: output/optic_flow/backward_98_97.txt: No such file or directory\n",
            "Optic flow interval=1:  74% 97/131 [1:20:26<28:07, 49.64s/it, 98.jpg and 99.jpg]cat: output/optic_flow/forward_98_99.txt: No such file or directory\n",
            "cat: output/optic_flow/backward_99_98.txt: No such file or directory\n",
            "Optic flow interval=1:  75% 98/131 [1:21:15<27:14, 49.52s/it, 99.jpg and 100.jpg]cat: output/optic_flow/forward_99_100.txt: No such file or directory\n",
            "cat: output/optic_flow/backward_100_99.txt: No such file or directory\n",
            "Optic flow interval=1:  76% 99/131 [1:22:06<26:35, 49.86s/it, 100.jpg and 101.jpg]cat: output/optic_flow/forward_100_101.txt: No such file or directory\n",
            "cat: output/optic_flow/backward_101_100.txt: No such file or directory\n",
            "Optic flow interval=1:  76% 100/131 [1:22:55<25:45, 49.84s/it, 101.jpg and 102.jpg]cat: output/optic_flow/forward_101_102.txt: No such file or directory\n",
            "cat: output/optic_flow/backward_102_101.txt: No such file or directory\n",
            "Optic flow interval=1:  77% 101/131 [1:23:46<24:58, 49.96s/it, 102.jpg and 103.jpg]cat: output/optic_flow/forward_102_103.txt: No such file or directory\n",
            "cat: output/optic_flow/backward_103_102.txt: No such file or directory\n",
            "Optic flow interval=1:  78% 102/131 [1:24:35<23:58, 49.62s/it, 103.jpg and 104.jpg]cat: output/optic_flow/forward_103_104.txt: No such file or directory\n",
            "cat: output/optic_flow/backward_104_103.txt: No such file or directory\n",
            "Optic flow interval=1:  79% 103/131 [1:25:24<23:04, 49.44s/it, 104.jpg and 105.jpg]cat: output/optic_flow/forward_104_105.txt: No such file or directory\n",
            "cat: output/optic_flow/backward_105_104.txt: No such file or directory\n",
            "Optic flow interval=1:  79% 104/131 [1:26:12<22:09, 49.26s/it, 105.jpg and 106.jpg]cat: output/optic_flow/forward_105_106.txt: No such file or directory\n",
            "cat: output/optic_flow/backward_106_105.txt: No such file or directory\n",
            "Optic flow interval=1:  80% 105/131 [1:27:02<21:23, 49.36s/it, 106.jpg and 107.jpg]cat: output/optic_flow/forward_106_107.txt: No such file or directory\n",
            "cat: output/optic_flow/backward_107_106.txt: No such file or directory\n",
            "Optic flow interval=1:  81% 106/131 [1:27:52<20:36, 49.48s/it, 107.jpg and 108.jpg]cat: output/optic_flow/forward_107_108.txt: No such file or directory\n",
            "cat: output/optic_flow/backward_108_107.txt: No such file or directory\n",
            "Optic flow interval=1:  82% 107/131 [1:28:41<19:47, 49.46s/it, 108.jpg and 109.jpg]cat: output/optic_flow/forward_108_109.txt: No such file or directory\n",
            "cat: output/optic_flow/backward_109_108.txt: No such file or directory\n",
            "Optic flow interval=1:  82% 108/131 [1:29:31<19:02, 49.67s/it, 109.jpg and 110.jpg]cat: output/optic_flow/forward_109_110.txt: No such file or directory\n",
            "cat: output/optic_flow/backward_110_109.txt: No such file or directory\n",
            "Optic flow interval=1:  83% 109/131 [1:30:21<18:10, 49.55s/it, 110.jpg and 111.jpg]cat: output/optic_flow/forward_110_111.txt: No such file or directory\n",
            "cat: output/optic_flow/backward_111_110.txt: No such file or directory\n",
            "Optic flow interval=1:  84% 110/131 [1:31:10<17:17, 49.38s/it, 111.jpg and 112.jpg]cat: output/optic_flow/forward_111_112.txt: No such file or directory\n",
            "cat: output/optic_flow/backward_112_111.txt: No such file or directory\n",
            "Optic flow interval=1:  85% 111/131 [1:31:59<16:30, 49.51s/it, 112.jpg and 113.jpg]cat: output/optic_flow/forward_112_113.txt: No such file or directory\n",
            "cat: output/optic_flow/backward_113_112.txt: No such file or directory\n",
            "Optic flow interval=1:  85% 112/131 [1:32:51<15:53, 50.18s/it, 113.jpg and 114.jpg]cat: output/optic_flow/forward_113_114.txt: No such file or directory\n",
            "cat: output/optic_flow/backward_114_113.txt: No such file or directory\n",
            "Optic flow interval=1:  86% 113/131 [1:33:41<14:58, 49.94s/it, 114.jpg and 115.jpg]cat: output/optic_flow/forward_114_115.txt: No such file or directory\n",
            "cat: output/optic_flow/backward_115_114.txt: No such file or directory\n",
            "Optic flow interval=1:  87% 114/131 [1:34:30<14:06, 49.80s/it, 115.jpg and 116.jpg]cat: output/optic_flow/forward_115_116.txt: No such file or directory\n",
            "cat: output/optic_flow/backward_116_115.txt: No such file or directory\n",
            "Optic flow interval=1:  88% 115/131 [1:35:19<13:13, 49.61s/it, 116.jpg and 117.jpg]cat: output/optic_flow/forward_116_117.txt: No such file or directory\n",
            "cat: output/optic_flow/backward_117_116.txt: No such file or directory\n",
            "Optic flow interval=1:  89% 116/131 [1:36:09<12:23, 49.56s/it, 117.jpg and 118.jpg]cat: output/optic_flow/forward_117_118.txt: No such file or directory\n",
            "cat: output/optic_flow/backward_118_117.txt: No such file or directory\n",
            "Optic flow interval=1:  89% 117/131 [1:36:58<11:35, 49.65s/it, 118.jpg and 119.jpg]cat: output/optic_flow/forward_118_119.txt: No such file or directory\n",
            "cat: output/optic_flow/backward_119_118.txt: No such file or directory\n",
            "Optic flow interval=1:  90% 118/131 [1:37:48<10:46, 49.73s/it, 119.jpg and 120.jpg]cat: output/optic_flow/forward_119_120.txt: No such file or directory\n",
            "cat: output/optic_flow/backward_120_119.txt: No such file or directory\n",
            "Optic flow interval=1:  91% 119/131 [1:38:38<09:55, 49.61s/it, 120.jpg and 121.jpg]cat: output/optic_flow/forward_120_121.txt: No such file or directory\n",
            "cat: output/optic_flow/backward_121_120.txt: No such file or directory\n",
            "Optic flow interval=1:  92% 120/131 [1:39:27<09:05, 49.64s/it, 121.jpg and 122.jpg]cat: output/optic_flow/forward_121_122.txt: No such file or directory\n",
            "cat: output/optic_flow/backward_122_121.txt: No such file or directory\n",
            "Optic flow interval=1:  92% 121/131 [1:40:16<08:13, 49.36s/it, 122.jpg and 123.jpg]cat: output/optic_flow/forward_122_123.txt: No such file or directory\n",
            "cat: output/optic_flow/backward_123_122.txt: No such file or directory\n",
            "Optic flow interval=1:  93% 122/131 [1:41:07<07:27, 49.74s/it, 123.jpg and 124.jpg]cat: output/optic_flow/forward_123_124.txt: No such file or directory\n",
            "cat: output/optic_flow/backward_124_123.txt: No such file or directory\n",
            "Optic flow interval=1:  94% 123/131 [1:41:56<06:35, 49.46s/it, 124.jpg and 125.jpg]cat: output/optic_flow/forward_124_125.txt: No such file or directory\n",
            "cat: output/optic_flow/backward_125_124.txt: No such file or directory\n",
            "Optic flow interval=1:  95% 124/131 [1:42:45<05:46, 49.49s/it, 125.jpg and 126.jpg]cat: output/optic_flow/forward_125_126.txt: No such file or directory\n",
            "cat: output/optic_flow/backward_126_125.txt: No such file or directory\n",
            "Optic flow interval=1:  95% 125/131 [1:43:34<04:56, 49.43s/it, 126.jpg and 127.jpg]cat: output/optic_flow/forward_126_127.txt: No such file or directory\n",
            "cat: output/optic_flow/backward_127_126.txt: No such file or directory\n",
            "Optic flow interval=1:  96% 126/131 [1:44:23<04:05, 49.18s/it, 127.jpg and 128.jpg]cat: output/optic_flow/forward_127_128.txt: No such file or directory\n",
            "cat: output/optic_flow/backward_128_127.txt: No such file or directory\n",
            "Optic flow interval=1:  97% 127/131 [1:45:13<03:17, 49.38s/it, 128.jpg and 129.jpg]cat: output/optic_flow/forward_128_129.txt: No such file or directory\n",
            "cat: output/optic_flow/backward_129_128.txt: No such file or directory\n",
            "Optic flow interval=1:  98% 128/131 [1:46:02<02:28, 49.33s/it, 129.jpg and 130.jpg]cat: output/optic_flow/forward_129_130.txt: No such file or directory\n",
            "cat: output/optic_flow/backward_130_129.txt: No such file or directory\n",
            "Optic flow interval=1:  98% 129/131 [1:46:52<01:39, 49.51s/it, 130.jpg and 131.jpg]cat: output/optic_flow/forward_130_131.txt: No such file or directory\n",
            "cat: output/optic_flow/backward_131_130.txt: No such file or directory\n",
            "Optic flow interval=1:  99% 130/131 [1:47:40<00:49, 49.20s/it, 131.jpg and 132.jpg]cat: output/optic_flow/forward_131_132.txt: No such file or directory\n",
            "cat: output/optic_flow/backward_132_131.txt: No such file or directory\n",
            "Optic flow interval=1: 100% 131/131 [1:48:35<00:00, 49.74s/it, 131.jpg and 132.jpg]\n",
            "Optic flow interval=2:   0% 0/130 [00:00<?, ?it/s, 1.jpg and 3.jpg]cat: output/optic_flow/forward_1_3.txt: No such file or directory\n",
            "cat: output/optic_flow/backward_3_1.txt: No such file or directory\n",
            "Optic flow interval=2:   1% 1/130 [00:51<1:50:02, 51.18s/it, 2.jpg and 4.jpg]cat: output/optic_flow/forward_2_4.txt: No such file or directory\n",
            "cat: output/optic_flow/backward_4_2.txt: No such file or directory\n",
            "Optic flow interval=2:   2% 2/130 [01:40<1:47:16, 50.28s/it, 3.jpg and 5.jpg]cat: output/optic_flow/forward_3_5.txt: No such file or directory\n",
            "cat: output/optic_flow/backward_5_3.txt: No such file or directory\n",
            "Optic flow interval=2:   2% 3/130 [02:31<1:46:58, 50.54s/it, 4.jpg and 6.jpg]cat: output/optic_flow/forward_4_6.txt: No such file or directory\n",
            "cat: output/optic_flow/backward_6_4.txt: No such file or directory\n",
            "Optic flow interval=2:   3% 4/130 [03:22<1:46:21, 50.65s/it, 5.jpg and 7.jpg]cat: output/optic_flow/forward_5_7.txt: No such file or directory\n",
            "cat: output/optic_flow/backward_7_5.txt: No such file or directory\n",
            "Optic flow interval=2:   4% 5/130 [04:10<1:43:53, 49.87s/it, 6.jpg and 8.jpg]cat: output/optic_flow/forward_6_8.txt: No such file or directory\n",
            "cat: output/optic_flow/backward_8_6.txt: No such file or directory\n",
            "Optic flow interval=2:   5% 6/130 [05:01<1:43:51, 50.26s/it, 7.jpg and 9.jpg]cat: output/optic_flow/forward_7_9.txt: No such file or directory\n",
            "cat: output/optic_flow/backward_9_7.txt: No such file or directory\n",
            "Optic flow interval=2:   5% 7/130 [05:51<1:42:38, 50.07s/it, 8.jpg and 10.jpg]cat: output/optic_flow/forward_8_10.txt: No such file or directory\n",
            "cat: output/optic_flow/backward_10_8.txt: No such file or directory\n",
            "Optic flow interval=2:   6% 8/130 [06:41<1:41:46, 50.05s/it, 9.jpg and 11.jpg]cat: output/optic_flow/forward_9_11.txt: No such file or directory\n",
            "cat: output/optic_flow/backward_11_9.txt: No such file or directory\n",
            "Optic flow interval=2:   7% 9/130 [07:32<1:41:06, 50.14s/it, 10.jpg and 12.jpg]cat: output/optic_flow/forward_10_12.txt: No such file or directory\n",
            "cat: output/optic_flow/backward_12_10.txt: No such file or directory\n",
            "Optic flow interval=2:   8% 10/130 [08:22<1:40:17, 50.14s/it, 11.jpg and 13.jpg]cat: output/optic_flow/forward_11_13.txt: No such file or directory\n",
            "cat: output/optic_flow/backward_13_11.txt: No such file or directory\n",
            "Optic flow interval=2:   8% 11/130 [09:11<1:39:02, 49.93s/it, 12.jpg and 14.jpg]cat: output/optic_flow/forward_12_14.txt: No such file or directory\n",
            "cat: output/optic_flow/backward_14_12.txt: No such file or directory\n",
            "Optic flow interval=2:   9% 12/130 [10:07<1:41:27, 51.59s/it, 13.jpg and 15.jpg]cat: output/optic_flow/forward_13_15.txt: No such file or directory\n",
            "cat: output/optic_flow/backward_15_13.txt: No such file or directory\n",
            "Optic flow interval=2:  10% 13/130 [10:57<1:40:11, 51.38s/it, 14.jpg and 16.jpg]cat: output/optic_flow/forward_14_16.txt: No such file or directory\n",
            "cat: output/optic_flow/backward_16_14.txt: No such file or directory\n",
            "Optic flow interval=2:  11% 14/130 [11:47<1:38:14, 50.81s/it, 15.jpg and 17.jpg]cat: output/optic_flow/forward_15_17.txt: No such file or directory\n",
            "cat: output/optic_flow/backward_17_15.txt: No such file or directory\n",
            "Optic flow interval=2:  12% 15/130 [12:37<1:37:00, 50.62s/it, 16.jpg and 18.jpg]cat: output/optic_flow/forward_16_18.txt: No such file or directory\n",
            "cat: output/optic_flow/backward_18_16.txt: No such file or directory\n",
            "Optic flow interval=2:  12% 16/130 [13:27<1:35:49, 50.43s/it, 17.jpg and 19.jpg]cat: output/optic_flow/forward_17_19.txt: No such file or directory\n",
            "cat: output/optic_flow/backward_19_17.txt: No such file or directory\n",
            "Optic flow interval=2:  13% 17/130 [14:17<1:34:53, 50.39s/it, 18.jpg and 20.jpg]cat: output/optic_flow/forward_18_20.txt: No such file or directory\n",
            "cat: output/optic_flow/backward_20_18.txt: No such file or directory\n",
            "Optic flow interval=2:  14% 18/130 [15:08<1:34:07, 50.42s/it, 19.jpg and 21.jpg]cat: output/optic_flow/forward_19_21.txt: No such file or directory\n",
            "cat: output/optic_flow/backward_21_19.txt: No such file or directory\n",
            "Optic flow interval=2:  15% 19/130 [15:58<1:33:05, 50.32s/it, 20.jpg and 22.jpg]cat: output/optic_flow/forward_20_22.txt: No such file or directory\n",
            "Optic flow interval=2:  15% 19/130 [16:10<1:34:26, 51.05s/it, 20.jpg and 22.jpg]\n",
            "Traceback (most recent call last):\n",
            "  File \"/usr/lib/python3.8/subprocess.py\", line 1083, in wait\n",
            "    return self._wait(timeout=timeout)\n",
            "  File \"/usr/lib/python3.8/subprocess.py\", line 1806, in _wait\n",
            "    (pid, sts) = self._try_wait(0)\n",
            "  File \"/usr/lib/python3.8/subprocess.py\", line 1764, in _try_wait\n",
            "    (pid, sts) = os.waitpid(self.pid, wait_flags)\n",
            "KeyboardInterrupt\n",
            "\n",
            "During handling of the above exception, another exception occurred:\n",
            "\n",
            "Traceback (most recent call last):\n",
            "  File \"main.py\", line 164, in <module>\n",
            "    preparation()\n",
            "  File \"main.py\", line 38, in preparation\n",
            "    make_optic_flow(TrainParam.video_frames_dir, TrainParam.video_optic_flow_dir)\n",
            "  File \"/content/STARVE/utils/dataset.py\", line 172, in make_optic_flow\n",
            "    make_single_optic_flow(content_img_list[i], content_img_list[j],\n",
            "  File \"/content/STARVE/utils/dataset.py\", line 217, in make_single_optic_flow\n",
            "    p.communicate()\n",
            "  File \"/usr/lib/python3.8/subprocess.py\", line 1020, in communicate\n",
            "    self.wait()\n",
            "  File \"/usr/lib/python3.8/subprocess.py\", line 1096, in wait\n",
            "    self._wait(timeout=sigint_timeout)\n",
            "  File \"/usr/lib/python3.8/subprocess.py\", line 1800, in _wait\n",
            "    time.sleep(delay)\n",
            "KeyboardInterrupt\n",
            "^C\n"
          ]
        }
      ]
    },
    {
      "cell_type": "code",
      "source": [
        "from google.colab import drive\n",
        "drive.mount('/content/drive')"
      ],
      "metadata": {
        "colab": {
          "base_uri": "https://localhost:8080/"
        },
        "id": "hGT7PJncw-Sf",
        "outputId": "96c5840b-462e-4e9a-9d19-5ccbf6afa95b"
      },
      "execution_count": null,
      "outputs": [
        {
          "output_type": "stream",
          "name": "stdout",
          "text": [
            "Mounted at /content/drive\n"
          ]
        }
      ]
    },
    {
      "cell_type": "markdown",
      "metadata": {
        "id": "Xy8ZLwkWPpCz"
      },
      "source": [
        "### Delete a folder"
      ]
    },
    {
      "cell_type": "code",
      "metadata": {
        "id": "rI4aqEXuPoQ5"
      },
      "source": [
        "!rm -rf *path*\n",
        "# eg. !rm -rf output/optic_flow"
      ],
      "execution_count": null,
      "outputs": []
    },
    {
      "cell_type": "markdown",
      "metadata": {
        "id": "8mx3SvdSOwFJ"
      },
      "source": [
        "### Download files"
      ]
    },
    {
      "cell_type": "code",
      "metadata": {
        "id": "6Jxs6mipMMAP",
        "colab": {
          "base_uri": "https://localhost:8080/",
          "height": 339
        },
        "outputId": "cad7bbf2-8d96-468c-955b-aa27b2a153f5"
      },
      "source": [
        "from google.colab import files\n",
        "#If need to zip folder: \n",
        "!zip -r *file_name*.zip . -i *file_path*\n",
        "## eg. !zip -r multipass-output.zip output\n",
        "\n",
        "#Download \n",
        "files.download('*file_name*') #files.download('multipass-output.zip')"
      ],
      "execution_count": null,
      "outputs": [
        {
          "output_type": "stream",
          "name": "stdout",
          "text": [
            "\tzip warning: zip file empty\n"
          ]
        },
        {
          "output_type": "error",
          "ename": "FileNotFoundError",
          "evalue": "ignored",
          "traceback": [
            "\u001b[0;31m---------------------------------------------------------------------------\u001b[0m",
            "\u001b[0;31mFileNotFoundError\u001b[0m                         Traceback (most recent call last)",
            "\u001b[0;32m<ipython-input-5-73c433fdb0d5>\u001b[0m in \u001b[0;36m<module>\u001b[0;34m\u001b[0m\n\u001b[1;32m      5\u001b[0m \u001b[0;34m\u001b[0m\u001b[0m\n\u001b[1;32m      6\u001b[0m \u001b[0;31m#Download\u001b[0m\u001b[0;34m\u001b[0m\u001b[0;34m\u001b[0m\u001b[0;34m\u001b[0m\u001b[0m\n\u001b[0;32m----> 7\u001b[0;31m \u001b[0mfiles\u001b[0m\u001b[0;34m.\u001b[0m\u001b[0mdownload\u001b[0m\u001b[0;34m(\u001b[0m\u001b[0;34m'*file_name*'\u001b[0m\u001b[0;34m)\u001b[0m \u001b[0;31m#files.download('multipass-output.zip')\u001b[0m\u001b[0;34m\u001b[0m\u001b[0;34m\u001b[0m\u001b[0m\n\u001b[0m",
            "\u001b[0;32m/usr/local/lib/python3.8/dist-packages/google/colab/files.py\u001b[0m in \u001b[0;36mdownload\u001b[0;34m(filename)\u001b[0m\n\u001b[1;32m    207\u001b[0m   \u001b[0;32mif\u001b[0m \u001b[0;32mnot\u001b[0m \u001b[0m_os\u001b[0m\u001b[0;34m.\u001b[0m\u001b[0mpath\u001b[0m\u001b[0;34m.\u001b[0m\u001b[0mexists\u001b[0m\u001b[0;34m(\u001b[0m\u001b[0mfilename\u001b[0m\u001b[0;34m)\u001b[0m\u001b[0;34m:\u001b[0m\u001b[0;34m\u001b[0m\u001b[0;34m\u001b[0m\u001b[0m\n\u001b[1;32m    208\u001b[0m     \u001b[0mmsg\u001b[0m \u001b[0;34m=\u001b[0m \u001b[0;34m'Cannot find file: {}'\u001b[0m\u001b[0;34m.\u001b[0m\u001b[0mformat\u001b[0m\u001b[0;34m(\u001b[0m\u001b[0mfilename\u001b[0m\u001b[0;34m)\u001b[0m\u001b[0;34m\u001b[0m\u001b[0;34m\u001b[0m\u001b[0m\n\u001b[0;32m--> 209\u001b[0;31m     \u001b[0;32mraise\u001b[0m \u001b[0mFileNotFoundError\u001b[0m\u001b[0;34m(\u001b[0m\u001b[0mmsg\u001b[0m\u001b[0;34m)\u001b[0m  \u001b[0;31m# pylint: disable=undefined-variable\u001b[0m\u001b[0;34m\u001b[0m\u001b[0;34m\u001b[0m\u001b[0m\n\u001b[0m\u001b[1;32m    210\u001b[0m \u001b[0;34m\u001b[0m\u001b[0m\n\u001b[1;32m    211\u001b[0m   \u001b[0mcomm_manager\u001b[0m \u001b[0;34m=\u001b[0m \u001b[0m_IPython\u001b[0m\u001b[0;34m.\u001b[0m\u001b[0mget_ipython\u001b[0m\u001b[0;34m(\u001b[0m\u001b[0;34m)\u001b[0m\u001b[0;34m.\u001b[0m\u001b[0mkernel\u001b[0m\u001b[0;34m.\u001b[0m\u001b[0mcomm_manager\u001b[0m\u001b[0;34m\u001b[0m\u001b[0;34m\u001b[0m\u001b[0m\n",
            "\u001b[0;31mFileNotFoundError\u001b[0m: Cannot find file: *file_name*"
          ]
        }
      ]
    },
    {
      "cell_type": "markdown",
      "metadata": {
        "id": "aJiFYn0MNHy2"
      },
      "source": [
        "## Run fast neural style transfer "
      ]
    },
    {
      "cell_type": "code",
      "metadata": {
        "id": "a4DZ7Ry23lw-",
        "colab": {
          "base_uri": "https://localhost:8080/"
        },
        "outputId": "ecf369b9-6cdb-467c-8874-cd047bc600be"
      },
      "source": [
        "%cd /content/STARVE/\n",
        "!python main_fast.py"
      ],
      "execution_count": 31,
      "outputs": [
        {
          "output_type": "stream",
          "name": "stdout",
          "text": [
            "/content/STARVE\n",
            "2023-03-06 23:59:45.670007: I tensorflow/core/platform/cpu_feature_guard.cc:193] This TensorFlow binary is optimized with oneAPI Deep Neural Network Library (oneDNN) to use the following CPU instructions in performance-critical operations:  AVX2 FMA\n",
            "To enable them in other operations, rebuild TensorFlow with the appropriate compiler flags.\n",
            "2023-03-06 23:59:47.440706: W tensorflow/compiler/xla/stream_executor/platform/default/dso_loader.cc:64] Could not load dynamic library 'libnvinfer.so.7'; dlerror: libnvinfer.so.7: cannot open shared object file: No such file or directory; LD_LIBRARY_PATH: /usr/local/nvidia/lib:/usr/local/nvidia/lib64\n",
            "2023-03-06 23:59:47.440857: W tensorflow/compiler/xla/stream_executor/platform/default/dso_loader.cc:64] Could not load dynamic library 'libnvinfer_plugin.so.7'; dlerror: libnvinfer_plugin.so.7: cannot open shared object file: No such file or directory; LD_LIBRARY_PATH: /usr/local/nvidia/lib:/usr/local/nvidia/lib64\n",
            "2023-03-06 23:59:47.440878: W tensorflow/compiler/tf2tensorrt/utils/py_utils.cc:38] TF-TRT Warning: Cannot dlopen some TensorRT libraries. If you would like to use Nvidia GPU with TensorRT, please make sure the missing libraries mentioned above are installed properly.\n",
            "Convert video to frames: 635it [00:18, 33.96it/s]\n",
            "2023-03-07 00:00:11.035502: E tensorflow/compiler/xla/stream_executor/cuda/cuda_driver.cc:267] failed call to cuInit: CUDA_ERROR_NO_DEVICE: no CUDA-capable device is detected\n",
            "Moviepy - Building video output/stylized_CaseStudy01_Chasing_the_feeling_v016.mp4.\n",
            "Moviepy - Writing video output/stylized_CaseStudy01_Chasing_the_feeling_v016.mp4\n",
            "\n",
            "Moviepy - Done !\n",
            "Moviepy - video ready output/stylized_CaseStudy01_Chasing_the_feeling_v016.mp4\n"
          ]
        }
      ]
    }
  ]
}