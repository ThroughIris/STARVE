{
  "nbformat": 4,
  "nbformat_minor": 0,
  "metadata": {
    "colab": {
      "name": "run-style-transfer-for-videos-multipass.ipynb",
      "provenance": [],
      "collapsed_sections": [],
      "toc_visible": true,
      "machine_shape": "hm"
    },
    "kernelspec": {
      "name": "python3",
      "display_name": "Python 3"
    },
    "language_info": {
      "name": "python"
    }
  },
  "cells": [
    {
      "cell_type": "markdown",
      "metadata": {
        "id": "-3FN3phj7CpY"
      },
      "source": [
        "<a href=\"https://colab.research.google.com/github/zhou671/STRAVE/blob/master/run-style-transfer-for-videos-tutorial.ipynb\" target=\"_parent\"><img src=\"https://colab.research.google.com/assets/colab-badge.svg\" alt=\"Open In Colab\"/></a>"
      ]
    },
    {
      "cell_type": "markdown",
      "metadata": {
        "id": "Vz0I_aD-7cAE"
      },
      "source": [
        "# Clone Our GitHub Repo"
      ]
    },
    {
      "cell_type": "code",
      "metadata": {
        "id": "r8zZSre07O-g",
        "colab": {
          "base_uri": "https://localhost:8080/"
        },
        "outputId": "95b19eb9-fa03-4c9d-80b8-bf452cba2536"
      },
      "source": [
        "%cd /content/\n",
        "!git clone https://github.com/zhou671/STRAVE.git\n",
        "!mv /content/STRAVE/ /content/STARVE/  # in case there is typo in the repo name."
      ],
      "execution_count": 13,
      "outputs": [
        {
          "output_type": "stream",
          "text": [
            "/content\n",
            "Cloning into 'STRAVE'...\n",
            "remote: Enumerating objects: 949, done.\u001b[K\n",
            "remote: Counting objects: 100% (40/40), done.\u001b[K\n",
            "remote: Compressing objects: 100% (31/31), done.\u001b[K\n",
            "remote: Total 949 (delta 18), reused 17 (delta 9), pack-reused 909\u001b[K\n",
            "Receiving objects: 100% (949/949), 109.77 MiB | 24.35 MiB/s, done.\n",
            "Resolving deltas: 100% (557/557), done.\n",
            "Checking out files: 100% (1285/1285), done.\n"
          ],
          "name": "stdout"
        }
      ]
    },
    {
      "cell_type": "markdown",
      "metadata": {
        "id": "I6hEJV088iqB"
      },
      "source": [
        "# Install Dependencies"
      ]
    },
    {
      "cell_type": "code",
      "metadata": {
        "id": "FpLrbk8M8gWY",
        "colab": {
          "base_uri": "https://localhost:8080/"
        },
        "outputId": "37f4e2f6-168a-484a-f93b-73e4f9754bca"
      },
      "source": [
        "!pip install tensorflow_addons\n",
        "!sudo apt-get install libgoogle-glog-dev  # When using GPU backend\n",
        "!echo /content/STARVE/opticFlow/web_gpudm_1.0_compiled/caffe/.build_release/lib > /etc/ld.so.conf.d/caffe.conf\n",
        "!ldconfig"
      ],
      "execution_count": 14,
      "outputs": [
        {
          "output_type": "stream",
          "text": [
            "Requirement already satisfied: tensorflow_addons in /usr/local/lib/python3.7/dist-packages (0.12.1)\n",
            "Requirement already satisfied: typeguard>=2.7 in /usr/local/lib/python3.7/dist-packages (from tensorflow_addons) (2.7.1)\n",
            "Reading package lists... Done\n",
            "Building dependency tree       \n",
            "Reading state information... Done\n",
            "libgoogle-glog-dev is already the newest version (0.3.5-1).\n",
            "0 upgraded, 0 newly installed, 0 to remove and 31 not upgraded.\n",
            "/sbin/ldconfig.real: /usr/local/lib/python3.7/dist-packages/ideep4py/lib/libmkldnn.so.0 is not a symbolic link\n",
            "\n"
          ],
          "name": "stdout"
        }
      ]
    },
    {
      "cell_type": "markdown",
      "metadata": {
        "id": "ioGnhE-D7hag"
      },
      "source": [
        "# Run the Code"
      ]
    },
    {
      "cell_type": "markdown",
      "metadata": {
        "id": "u195I-qo9TwC"
      },
      "source": [
        "## Run a Single Image"
      ]
    },
    {
      "cell_type": "markdown",
      "metadata": {
        "id": "rSEWRZae9kpZ"
      },
      "source": [
        "In `hyperparams/dataset_param.py`, \n",
        "*   set `use_video = False`\n",
        "*   set `content_img_path`\n",
        "*   set `style_img_path`\n",
        "\n",
        "The stylized image will be saved in `output/`."
      ]
    },
    {
      "cell_type": "markdown",
      "metadata": {
        "id": "TskmbBH29ZMT"
      },
      "source": [
        "## Run a Video"
      ]
    },
    {
      "cell_type": "markdown",
      "metadata": {
        "id": "i55E51nl9flh"
      },
      "source": [
        "In `hyperparams/dataset_param.py`, \n",
        "*   set `use_video = True`\n",
        "*   set `video_path`\n",
        "*   set `style_img_path`\n",
        "*   set `video_fps`\n",
        "\n",
        "The stylized video will be saved in `output/`.\n",
        "\n",
        "Furthermore, follow the instructions below to use specific losses.\n"
      ]
    },
    {
      "cell_type": "markdown",
      "metadata": {
        "id": "xUTQZr0y9cbT"
      },
      "source": [
        "### Content Loss + Style Loss + Total Variation (TV) Loss"
      ]
    },
    {
      "cell_type": "markdown",
      "metadata": {
        "id": "46q-_Amm_tde"
      },
      "source": [
        "In `hyperparams/train_param.py`,\n",
        "*   set `n_step = 150`\n",
        "*   set `n_passes = 1`\n",
        "*   set `use_optic_flow = False`"
      ]
    },
    {
      "cell_type": "markdown",
      "metadata": {
        "id": "NeiHDMEqAgIa"
      },
      "source": [
        "### Content Loss + Style Loss + TV Loss + Short-Term Temporal Loss"
      ]
    },
    {
      "cell_type": "markdown",
      "metadata": {
        "id": "QLk0sYLnBDis"
      },
      "source": [
        "In `hyperparams/train_param.py`,\n",
        "*   set `n_step = 150`\n",
        "*   set `n_passes = 1`\n",
        "*   set `use_optic_flow = True`\n",
        "*   set `use_deep_matching_gpu = True`\n",
        "\n",
        "In `hyperparams/dataset_param.py`,\n",
        "*   set `init_generated_image_method = 'image_flow_warp'`\n",
        "\n",
        "In `hyperparams/loss_param.py`,\n",
        "*   set `J = [1]`"
      ]
    },
    {
      "cell_type": "markdown",
      "metadata": {
        "id": "p-uSnJP2BeFV"
      },
      "source": [
        "### Content Loss + Style Loss + TV Loss + Long-Term Temporal Loss"
      ]
    },
    {
      "cell_type": "markdown",
      "metadata": {
        "id": "sUXJ-hXsBiuA"
      },
      "source": [
        "In `hyperparams/train_param.py`,\n",
        "*   set `n_step = 150`\n",
        "*   set `n_passes = 1`\n",
        "*   set `use_optic_flow = True`\n",
        "*   set `use_deep_matching_gpu = True`\n",
        "\n",
        "In `hyperparams/dataset_param.py`,\n",
        "*   set `init_generated_image_method = 'image_flow_warp'`\n",
        "\n",
        "In `hyperparams/loss_param.py`,\n",
        "*   set `J = [1, 10, 20, 40]`, or any list of integers with more than one element"
      ]
    },
    {
      "cell_type": "markdown",
      "metadata": {
        "id": "01pnwdycCthJ"
      },
      "source": [
        "### Content Loss + Style Loss + TV Loss + Multi-Pass (Short-Term Temporal Loss)"
      ]
    },
    {
      "cell_type": "markdown",
      "metadata": {
        "id": "VUgWwtonC0dX"
      },
      "source": [
        "In `hyperparams/train_param.py`,\n",
        "*   set `n_step = 10`, or any integer > 1, `n_step` * `n_passes` is the total number of iterations\n",
        "*   set `n_passes = 15`, or any integer > 1, `n_step` * `n_passes` is the total number of iterations\n",
        "*   set `use_optic_flow = True`\n",
        "*   set `use_deep_matching_gpu = True`\n",
        "\n",
        "In `hyperparams/dataset_param.py`,\n",
        "*   set `init_generated_image_method = 'image'`\n",
        "\n",
        "In `hyperparams/loss_param.py`,\n",
        "*   set `use_temporal_pass = 8`, or any integer > 0, indicating from which pass to use short-term temporal loss"
      ]
    },
    {
      "cell_type": "code",
      "metadata": {
        "id": "1RhuymdR7mG8"
      },
      "source": [
        "%cd /content/STARVE/\n",
        "!python main.py"
      ],
      "execution_count": null,
      "outputs": []
    },
    {
      "cell_type": "markdown",
      "metadata": {
        "id": "Xy8ZLwkWPpCz"
      },
      "source": [
        "## Delete a folder"
      ]
    },
    {
      "cell_type": "code",
      "metadata": {
        "id": "rI4aqEXuPoQ5"
      },
      "source": [
        "!rm -rf *path*\n",
        "# eg. !rm -rf output/optic_flow"
      ],
      "execution_count": null,
      "outputs": []
    },
    {
      "cell_type": "markdown",
      "metadata": {
        "id": "8mx3SvdSOwFJ"
      },
      "source": [
        "## Download files"
      ]
    },
    {
      "cell_type": "code",
      "metadata": {
        "id": "6Jxs6mipMMAP"
      },
      "source": [
        "from google.colab import files\n",
        "#If need to zip folder: \n",
        "!zip -r *file_name*.zip *file_path*\n",
        "## eg. !zip -r multipass-output.zip output\n",
        "\n",
        "#Download \n",
        "files.download('*file_name*') #files.download('multipass-output.zip')"
      ],
      "execution_count": null,
      "outputs": []
    }
  ]
}