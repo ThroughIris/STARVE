{
 "nbformat": 4,
 "nbformat_minor": 0,
 "metadata": {
  "colab": {
   "name": "run-style-transfer-for-videos-multipass.ipynb",
   "provenance": [],
   "collapsed_sections": [],
   "toc_visible": true,
   "machine_shape": "hm"
  },
  "kernelspec": {
   "name": "python3",
   "display_name": "Python 3"
  },
  "language_info": {
   "name": "python"
  },
  "accelerator": "GPU"
 },
 "cells": [
  {
   "cell_type": "markdown",
   "metadata": {
    "id": "-3FN3phj7CpY"
   },
   "source": [
    "<a href=\"https://colab.research.google.com/github/zhou671/STARVE/blob/master/run-style-transfer-for-videos-tutorial.ipynb\" target=\"_parent\"><img src=\"https://colab.research.google.com/assets/colab-badge.svg\" alt=\"Open In Colab\"/></a>"
   ]
  },
  {
   "cell_type": "markdown",
   "metadata": {
    "id": "Vz0I_aD-7cAE"
   },
   "source": [
    "# Clone Our GitHub Repo"
   ]
  },
  {
   "cell_type": "code",
   "metadata": {
    "id": "r8zZSre07O-g"
   },
   "source": [
    "%cd /content/\n",
    "!git clone https://github.com/zhou671/STARVE.git"
   ],
   "execution_count": null,
   "outputs": []
  },
  {
   "cell_type": "markdown",
   "metadata": {
    "id": "I6hEJV088iqB"
   },
   "source": [
    "# Install Dependencies"
   ]
  },
  {
   "cell_type": "code",
   "metadata": {
    "id": "FpLrbk8M8gWY"
   },
   "source": [
    "!pip install tensorflow_addons\n",
    "!sudo apt-get install libgoogle-glog-dev  # When using GPU backend\n",
    "!echo /content/STARVE/opticFlow/web_gpudm_1.0_compiled/caffe/.build_release/lib > /etc/ld.so.conf.d/caffe.conf\n",
    "!ldconfig"
   ],
   "execution_count": null,
   "outputs": []
  },
  {
   "cell_type": "markdown",
   "metadata": {
    "id": "ioGnhE-D7hag"
   },
   "source": [
    "# Run the Code"
   ]
  },
  {
   "cell_type": "markdown",
   "metadata": {
    "id": "u195I-qo9TwC"
   },
   "source": [
    "## Run a Single Image"
   ]
  },
  {
   "cell_type": "markdown",
   "metadata": {
    "id": "rSEWRZae9kpZ"
   },
   "source": [
    "In `hyperparams/dataset_param.py`, \n",
    "*   set `use_video = False`\n",
    "*   set `content_img_path`\n",
    "*   set `style_img_path`\n",
    "\n",
    "The stylized image will be saved in `output/`."
   ]
  },
  {
   "cell_type": "markdown",
   "metadata": {
    "id": "TskmbBH29ZMT"
   },
   "source": [
    "## Run a Video"
   ]
  },
  {
   "cell_type": "markdown",
   "metadata": {
    "id": "i55E51nl9flh"
   },
   "source": [
    "In `hyperparams/dataset_param.py`, \n",
    "*   set `use_video = True`\n",
    "*   set `video_path`\n",
    "*   set `style_img_path`\n",
    "*   set `video_fps`\n",
    "\n",
    "The stylized video will be saved in `output/`.\n",
    "\n",
    "Furthermore, follow the instructions below to use specific losses.\n"
   ]
  },
  {
   "cell_type": "markdown",
   "metadata": {
    "id": "xUTQZr0y9cbT"
   },
   "source": [
    "### Content Loss + Style Loss + Total Variation (TV) Loss"
   ]
  },
  {
   "cell_type": "markdown",
   "metadata": {
    "id": "46q-_Amm_tde"
   },
   "source": [
    "In `hyperparams/train_param.py`,\n",
    "*   set `n_step = 150`\n",
    "*   set `n_passes = 1`\n",
    "*   set `use_optic_flow = False`"
   ]
  },
  {
   "cell_type": "markdown",
   "metadata": {
    "id": "NeiHDMEqAgIa"
   },
   "source": [
    "### Content Loss + Style Loss + TV Loss + Short-Term Temporal Loss"
   ]
  },
  {
   "cell_type": "markdown",
   "metadata": {
    "id": "QLk0sYLnBDis"
   },
   "source": [
    "In `hyperparams/train_param.py`,\n",
    "*   set `n_step = 150`\n",
    "*   set `n_passes = 1`\n",
    "*   set `use_optic_flow = True`\n",
    "*   set `use_deep_matching_gpu = True`\n",
    "\n",
    "In `hyperparams/dataset_param.py`,\n",
    "*   set `init_generated_image_method = 'image_flow_warp'`\n",
    "\n",
    "In `hyperparams/loss_param.py`,\n",
    "*   set `J = [1]`"
   ]
  },
  {
   "cell_type": "markdown",
   "metadata": {
    "id": "p-uSnJP2BeFV"
   },
   "source": [
    "### Content Loss + Style Loss + TV Loss + Long-Term Temporal Loss"
   ]
  },
  {
   "cell_type": "markdown",
   "metadata": {
    "id": "sUXJ-hXsBiuA"
   },
   "source": [
    "In `hyperparams/train_param.py`,\n",
    "*   set `n_step = 150`\n",
    "*   set `n_passes = 1`\n",
    "*   set `use_optic_flow = True`\n",
    "*   set `use_deep_matching_gpu = True`\n",
    "\n",
    "In `hyperparams/dataset_param.py`,\n",
    "*   set `init_generated_image_method = 'image_flow_warp'`\n",
    "\n",
    "In `hyperparams/loss_param.py`,\n",
    "*   set `J = [1, 10, 20, 40]`, or any list of integers with more than one element"
   ]
  },
  {
   "cell_type": "markdown",
   "metadata": {
    "id": "01pnwdycCthJ"
   },
   "source": [
    "### Content Loss + Style Loss + TV Loss + Multi-Pass (Short-Term Temporal Loss)"
   ]
  },
  {
   "cell_type": "markdown",
   "metadata": {
    "id": "VUgWwtonC0dX"
   },
   "source": [
    "In `hyperparams/train_param.py`,\n",
    "*   set `n_step = 10`, or any integer > 1, `n_step` * `n_passes` is the total number of iterations\n",
    "*   set `n_passes = 15`, or any integer > 1, `n_step` * `n_passes` is the total number of iterations\n",
    "*   set `use_optic_flow = True`\n",
    "*   set `use_deep_matching_gpu = True`\n",
    "\n",
    "In `hyperparams/dataset_param.py`,\n",
    "*   set `init_generated_image_method = 'image'`\n",
    "\n",
    "In `hyperparams/loss_param.py`,\n",
    "*   set `use_temporal_pass = 8`, or any integer > 0, indicating from which pass to use short-term temporal loss"
   ]
  },
  {
   "cell_type": "code",
   "metadata": {
    "id": "1RhuymdR7mG8"
   },
   "source": [
    "%cd /content/STARVE/\n",
    "!python main.py"
   ],
   "execution_count": null,
   "outputs": []
  },
  {
   "cell_type": "markdown",
   "metadata": {
    "id": "Xy8ZLwkWPpCz"
   },
   "source": [
    "### Delete a folder"
   ]
  },
  {
   "cell_type": "code",
   "metadata": {
    "id": "rI4aqEXuPoQ5"
   },
   "source": [
    "!rm -rf *path*\n",
    "# eg. !rm -rf output/optic_flow"
   ],
   "execution_count": null,
   "outputs": []
  },
  {
   "cell_type": "markdown",
   "metadata": {
    "id": "8mx3SvdSOwFJ"
   },
   "source": [
    "### Download files"
   ]
  },
  {
   "cell_type": "code",
   "metadata": {
    "id": "6Jxs6mipMMAP"
   },
   "source": [
    "from google.colab import files\n",
    "#If need to zip folder: \n",
    "!zip -r *file_name*.zip *file_path*\n",
    "## eg. !zip -r multipass-output.zip output\n",
    "\n",
    "#Download \n",
    "files.download('*file_name*') #files.download('multipass-output.zip')"
   ],
   "execution_count": null,
   "outputs": []
  },
  {
   "cell_type": "markdown",
   "metadata": {
    "id": "aJiFYn0MNHy2"
   },
   "source": [
    "## Run fast neural style transfer "
   ]
  },
  {
   "cell_type": "code",
   "metadata": {
    "id": "a4DZ7Ry23lw-"
   },
   "source": [
    "%cd /content/STARVE/\n",
    "!python main_fast.py"
   ],
   "execution_count": null,
   "outputs": []
  }
 ]
}